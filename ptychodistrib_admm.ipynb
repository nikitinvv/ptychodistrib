{
  "nbformat": 4,
  "nbformat_minor": 0,
  "metadata": {
    "colab": {
      "name": "ptychodistrib_admm.ipynb",
      "provenance": [],
      "collapsed_sections": [],
      "authorship_tag": "ABX9TyN7H1KbDVYryT0kFxJZ4Rdd",
      "include_colab_link": true
    },
    "kernelspec": {
      "name": "python3",
      "display_name": "Python 3"
    },
    "language_info": {
      "name": "python"
    },
    "accelerator": "GPU"
  },
  "cells": [
    {
      "cell_type": "markdown",
      "metadata": {
        "id": "view-in-github",
        "colab_type": "text"
      },
      "source": [
        "<a href=\"https://colab.research.google.com/github/nikitinvv/ptychodistrib/blob/main/ptychodistrib_admm.ipynb\" target=\"_parent\"><img src=\"https://colab.research.google.com/assets/colab-badge.svg\" alt=\"Open In Colab\"/></a>"
      ]
    },
    {
      "cell_type": "code",
      "metadata": {
        "id": "yfIvUtb72OSL"
      },
      "source": [
        "!wget -c https://repo.anaconda.com/miniconda/Miniconda3-4.7.12-Linux-x86_64.sh\n",
        "!chmod +x Miniconda3-4.7.12-Linux-x86_64.sh\n",
        "!bash ./Miniconda3-4.7.12-Linux-x86_64.sh -b -f -p /usr/local"
      ],
      "execution_count": null,
      "outputs": []
    },
    {
      "cell_type": "code",
      "metadata": {
        "colab": {
          "base_uri": "https://localhost:8080/"
        },
        "id": "GkbnSpQl2QAm",
        "outputId": "eaeca2bb-4a85-4333-f1b7-72a3da254025"
      },
      "source": [
        "!conda install -q -y --prefix /usr/local python=3.7.10 "
      ],
      "execution_count": null,
      "outputs": [
        {
          "output_type": "stream",
          "text": [
            "Collecting package metadata (current_repodata.json): ...working... done\n",
            "Solving environment: ...working... done\n",
            "\n",
            "## Package Plan ##\n",
            "\n",
            "  environment location: /usr/local\n",
            "\n",
            "  added / updated specs:\n",
            "    - python=3.7.10\n",
            "\n",
            "\n",
            "The following packages will be downloaded:\n",
            "\n",
            "    package                    |            build\n",
            "    ---------------------------|-----------------\n",
            "    ca-certificates-2021.1.19  |       h06a4308_1         118 KB\n",
            "    certifi-2020.12.5          |   py37h06a4308_0         141 KB\n",
            "    conda-4.9.2                |   py37h06a4308_0         2.9 MB\n",
            "    ld_impl_linux-64-2.33.1    |       h53a641e_7         568 KB\n",
            "    libffi-3.3                 |       he6710b0_2          50 KB\n",
            "    ncurses-6.2                |       he6710b0_1         817 KB\n",
            "    openssl-1.1.1k             |       h27cfd23_0         2.5 MB\n",
            "    python-3.7.10              |       hdb3f193_0        45.2 MB\n",
            "    readline-8.1               |       h27cfd23_0         362 KB\n",
            "    sqlite-3.35.2              |       hdfb4753_0         983 KB\n",
            "    tk-8.6.10                  |       hbc83047_0         3.0 MB\n",
            "    xz-5.2.5                   |       h7b6447c_0         341 KB\n",
            "    ------------------------------------------------------------\n",
            "                                           Total:        56.8 MB\n",
            "\n",
            "The following NEW packages will be INSTALLED:\n",
            "\n",
            "  ld_impl_linux-64   pkgs/main/linux-64::ld_impl_linux-64-2.33.1-h53a641e_7\n",
            "\n",
            "The following packages will be UPDATED:\n",
            "\n",
            "  ca-certificates                               2019.8.28-0 --> 2021.1.19-h06a4308_1\n",
            "  certifi                                  2019.9.11-py37_0 --> 2020.12.5-py37h06a4308_0\n",
            "  conda                                       4.7.12-py37_0 --> 4.9.2-py37h06a4308_0\n",
            "  libffi                                   3.2.1-hd88cf55_4 --> 3.3-he6710b0_2\n",
            "  ncurses                                    6.1-he6710b0_1 --> 6.2-he6710b0_1\n",
            "  openssl                                 1.1.1d-h7b6447c_2 --> 1.1.1k-h27cfd23_0\n",
            "  python                                   3.7.4-h265db76_1 --> 3.7.10-hdb3f193_0\n",
            "  readline                                   7.0-h7b6447c_5 --> 8.1-h27cfd23_0\n",
            "  sqlite                                  3.30.0-h7b6447c_0 --> 3.35.2-hdfb4753_0\n",
            "  tk                                       8.6.8-hbc83047_0 --> 8.6.10-hbc83047_0\n",
            "  xz                                       5.2.4-h14c3975_4 --> 5.2.5-h7b6447c_0\n",
            "\n",
            "\n",
            "Preparing transaction: ...working... done\n",
            "Verifying transaction: ...working... done\n",
            "Executing transaction: ...working... done\n"
          ],
          "name": "stdout"
        }
      ]
    },
    {
      "cell_type": "code",
      "metadata": {
        "id": "392_avL92ZNl"
      },
      "source": [
        "import sys\n",
        "_ = (sys.path.append(\"/usr/local/lib/python3.7/site-packages\"))"
      ],
      "execution_count": null,
      "outputs": []
    },
    {
      "cell_type": "code",
      "metadata": {
        "id": "-BOdWSyt5lW6"
      },
      "source": [
        "mkdir code; "
      ],
      "execution_count": null,
      "outputs": []
    },
    {
      "cell_type": "code",
      "metadata": {
        "id": "QeXaSUaF2cXU"
      },
      "source": [
        "cd code"
      ],
      "execution_count": null,
      "outputs": []
    },
    {
      "cell_type": "code",
      "metadata": {
        "colab": {
          "base_uri": "https://localhost:8080/"
        },
        "id": "VyDQr6kX2eIs",
        "outputId": "d74c11e2-592c-4e78-8ede-53f706af7ed4"
      },
      "source": [
        "!git clone https://github.com/nikitinvv/ptychodistrib"
      ],
      "execution_count": null,
      "outputs": [
        {
          "output_type": "stream",
          "text": [
            "Cloning into 'ptychodistrib'...\n",
            "remote: Enumerating objects: 47, done.\u001b[K\n",
            "remote: Counting objects: 100% (47/47), done.\u001b[K\n",
            "remote: Compressing objects: 100% (39/39), done.\u001b[K\n",
            "remote: Total 47 (delta 5), reused 39 (delta 5), pack-reused 0\u001b[K\n",
            "Unpacking objects: 100% (47/47), done.\n"
          ],
          "name": "stdout"
        }
      ]
    },
    {
      "cell_type": "code",
      "metadata": {
        "id": "Cgxp7f8O2ovd"
      },
      "source": [
        "!conda install -y -c conda-forge dxchange swig scikit-build"
      ],
      "execution_count": null,
      "outputs": []
    },
    {
      "cell_type": "code",
      "metadata": {
        "colab": {
          "base_uri": "https://localhost:8080/"
        },
        "id": "dvqPs4xV2uM1",
        "outputId": "8a2e704c-9fdf-476e-b1b5-ee046ad50f0b"
      },
      "source": [
        "cd ptychodistrib/"
      ],
      "execution_count": null,
      "outputs": [
        {
          "output_type": "stream",
          "text": [
            "/content/code/ptychodistrib\n"
          ],
          "name": "stdout"
        }
      ]
    },
    {
      "cell_type": "code",
      "metadata": {
        "colab": {
          "base_uri": "https://localhost:8080/"
        },
        "id": "8OHaMNlg3efn",
        "outputId": "ef279302-7da7-4de9-ed48-c24d8e28f812"
      },
      "source": [
        "!pip install ."
      ],
      "execution_count": null,
      "outputs": [
        {
          "output_type": "stream",
          "text": [
            "Processing /content/code/ptychodistrib\n",
            "Building wheels for collected packages: ptychodistrib\n",
            "  Building wheel for ptychodistrib (setup.py) ... \u001b[?25l\u001b[?25hdone\n",
            "  Created wheel for ptychodistrib: filename=ptychodistrib-0.1.0-cp37-cp37m-linux_x86_64.whl size=43370 sha256=c627cf2eb66761ce02c40b79d8d0ed6d27e31f9f3c04727032cd72ca975e13ce\n",
            "  Stored in directory: /tmp/pip-ephem-wheel-cache-4bw1dl5i/wheels/b9/b3/dd/5a68fea2e231b8335932e5221c3cacf1b41a8daae86059a055\n",
            "Successfully built ptychodistrib\n",
            "Installing collected packages: ptychodistrib\n",
            "Successfully installed ptychodistrib-0.1.0\n"
          ],
          "name": "stdout"
        }
      ]
    },
    {
      "cell_type": "markdown",
      "metadata": {
        "id": "cuCqYliZ8yna"
      },
      "source": [
        "# Solver class"
      ]
    },
    {
      "cell_type": "code",
      "metadata": {
        "colab": {
          "base_uri": "https://localhost:8080/"
        },
        "id": "3eFhwRkG6eVD",
        "outputId": "b1feb7b5-0c4c-43f1-ef3a-0363fc4e14d9"
      },
      "source": [
        "import cupy as cp\n",
        "import numpy as np\n",
        "from ptychodistrib.ptychofft import ptychofft\n",
        "\n",
        "\n",
        "class SolverPtycho(ptychofft):\n",
        "    \"\"\"Ptychography solver class.\n",
        "    This class is a context manager which provides the basic operators required\n",
        "    to implement a tomography solver. It also manages memory automatically,\n",
        "    and provides correct cleanup for interruptions or terminations.\n",
        "    Attributes\n",
        "    ----------\n",
        "    nz, n : int\n",
        "        The pixel height and width of the projection.\n",
        "    nscan : int\n",
        "        Number of scanning positions\n",
        "    ndet : int\n",
        "        Detector size\n",
        "    nprb : int\n",
        "        Probe size    \n",
        "    nnodes : int\n",
        "        Number of nodes\n",
        "    \"\"\"\n",
        "\n",
        "    def __init__(self, nz, n, nscan, ndet, nprb, nnodes):\n",
        "        \"\"\"Please see help(SolverPtycho) for more info.\"\"\"\n",
        "        self.nnodes = nnodes\n",
        "        if(nscan % self.nnodes != 0):\n",
        "            print(f'Number of nodes should be a multiple of nscan')\n",
        "            exit()\n",
        "        super().__init__(1, nz, n, nscan//nnodes, ndet, nprb, 1)  # ntheta==1, ngpu==1\n",
        "\n",
        "    def __enter__(self):\n",
        "        \"\"\"Return self at start of a with-block.\"\"\"\n",
        "        return self\n",
        "\n",
        "    def __exit__(self, type, value, traceback):\n",
        "        \"\"\"Free GPU memory due at interruptions or with-block exit.\"\"\"\n",
        "        self.free()\n",
        "\n",
        "    def fwd_ptycho(self, psi, prb, scan):\n",
        "        \"\"\"Ptychography transform (FQ)\"\"\"\n",
        "        res = cp.zeros([self.nscan, self.ndet, self.ndet], dtype='complex64')\n",
        "        # convert to C-contiguous arrays if needed\n",
        "        psi = cp.ascontiguousarray(psi)\n",
        "        prb = cp.ascontiguousarray(prb)\n",
        "        scan = cp.ascontiguousarray(scan)\n",
        "        # run C wrapper\n",
        "        self.fwd(res.data.ptr, psi.data.ptr,\n",
        "                 prb.data.ptr, scan.data.ptr, 0)  # igpu = 0\n",
        "        return res\n",
        "\n",
        "    def adj_ptycho(self, data, prb, scan):\n",
        "        \"\"\"Adjoint ptychography transform (Q*F*)\"\"\"\n",
        "        res = cp.zeros([self.nz, self.n], dtype='complex64')\n",
        "        # convert to C-contiguous arrays if needed\n",
        "        data = cp.ascontiguousarray(data)\n",
        "        prb = cp.ascontiguousarray(prb)\n",
        "        scan = cp.ascontiguousarray(scan)\n",
        "        # run C wrapper\n",
        "        self.adj(res.data.ptr, data.data.ptr,\n",
        "                 prb.data.ptr, scan.data.ptr, 0)  # igpu = 0\n",
        "        return res\n",
        "\n",
        "    def update_penalty(self, psi, z, z0, rho):\n",
        "        \"\"\"Update rho for a faster convergence\"\"\"\n",
        "        r = cp.linalg.norm(psi - z)**2\n",
        "        s = cp.linalg.norm(rho*(z-z0))**2\n",
        "        if (r > 10*s):\n",
        "            rho *= 2\n",
        "        elif (s > 10*r):\n",
        "            rho *= 0.5\n",
        "        return rho\n",
        "\n",
        "    def grad_ptycho(self, data, psi, prb, scan, zlamd, rho, niter):\n",
        "        \"\"\"Gradient solver for the ptychography problem |||FQpsi|-sqrt(data)||^2_2 + rho||psi-zlamd||^2_2\"\"\"\n",
        "        # minimization functional\n",
        "        def minf(fpsi, psi):\n",
        "            f = cp.linalg.norm(cp.abs(fpsi) - cp.sqrt(data))**2\n",
        "            if(rho > 0):\n",
        "                f += rho*cp.linalg.norm(psi-zlamd)**2\n",
        "            return f\n",
        "\n",
        "        for i in range(niter):\n",
        "            # compute the gradient\n",
        "            fpsi = self.fwd_ptycho(psi, prb, scan)\n",
        "\n",
        "            gradpsi = self.adj_ptycho(\n",
        "                fpsi - cp.sqrt(data)*fpsi/(cp.abs(fpsi)+1e-32), prb, scan)\n",
        "\n",
        "            # normalization coefficient for skipping the line search procedure\n",
        "            afpsi = self.adj_ptycho(fpsi, prb, scan)\n",
        "            norm_coeff = cp.real(cp.sum(psi*cp.conj(afpsi)) /\n",
        "                                 (cp.sum(afpsi*cp.conj(afpsi))+1e-32))\n",
        "\n",
        "            if(rho > 0):\n",
        "                gradpsi += rho*(psi-zlamd)\n",
        "                gradpsi *= min(1/rho, norm_coeff)/2\n",
        "            else:\n",
        "                gradpsi *= norm_coeff/2\n",
        "            # update psi\n",
        "            psi = psi - 0.5*gradpsi\n",
        "            # check convergence\n",
        "            # print(f'{i}) {minf(fpsi, psi).get():.2e} ')\n",
        "\n",
        "        return psi\n",
        "\n",
        "    def grad_ptycho_batch(self, data, psi, prb, scan, zlamd, rho, piter):\n",
        "        \"\"\"Gradient solver with splitting by nodes\"\"\"\n",
        "        for k in range(self.nnodes):\n",
        "            ids = cp.arange(k*self.nscan, (k+1)*self.nscan)\n",
        "            psi[k] = self.grad_ptycho(\n",
        "                data[ids], psi[k], prb, scan[:, ids], zlamd[k], rho, piter)\n",
        "        return psi\n",
        "\n",
        "    def take_lagr(self, data, psi, prb, scan, z, lamd, rho):\n",
        "        \"\"\"Compute Lagrangian\"\"\"\n",
        "        lagr = np.zeros(4, dtype='float32')\n",
        "        for k in range(self.nnodes):\n",
        "            ids = cp.arange(k*self.nscan, (k+1)*self.nscan)\n",
        "            lagr[0] += cp.linalg.norm(cp.abs(self.fwd_ptycho(psi[k],\n",
        "                                      prb, scan[:, ids]))-cp.sqrt(data[ids]))**2\n",
        "        lagr[1] = 2*cp.sum(cp.real(cp.conj(lamd)*(psi-z)))\n",
        "        lagr[2] = rho*cp.linalg.norm(psi-z)**2\n",
        "        lagr[3] = cp.sum(lagr[:3])\n",
        "        return lagr\n"
      ],
      "execution_count": null,
      "outputs": [
        {
          "output_type": "stream",
          "text": [
            "/content/code/ptychodistrib/tests\n"
          ],
          "name": "stdout"
        }
      ]
    },
    {
      "cell_type": "markdown",
      "metadata": {
        "id": "1yKtSgWV8lsz"
      },
      "source": [
        "# **ADMM solver**"
      ]
    },
    {
      "cell_type": "code",
      "metadata": {
        "id": "aJtxhmnY3iGe"
      },
      "source": [
        "import numpy as np\n",
        "import cupy as cp\n",
        "import dxchange\n",
        "from random import sample\n",
        "import matplotlib.pyplot as plt\n",
        "\n",
        "\n",
        "n = 384  # object size n x\n",
        "nz = 384  # object size in z\n",
        "ndet = 128  # detector size\n",
        "nprb = 128  # probe size\n",
        "nscan = 256  #  number of scan positions (max 4554)\n",
        "nnodes = 1  # number of nodes (multiple of nscan)\n",
        "\n",
        "# Load object\n",
        "amp = dxchange.read_tiff('data/object_ampe.tiff')\n",
        "angle = dxchange.read_tiff('data/object_anglee.tiff')\n",
        "psiinit = amp*np.exp(1j*angle)\n",
        "\n",
        "# Load probe\n",
        "probe_amp = dxchange.read_tiff('data/probe_amp.tiff')\n",
        "probe_angle = dxchange.read_tiff('data/probe_angle.tiff')\n",
        "prb = probe_amp*np.exp(1j*probe_angle)\n",
        "\n",
        "# Load scan positions\n",
        "scan = np.load('data/scan.npy')\n",
        "# pick randomly nscan positions\n",
        "scan = scan[:,sample(range(scan.shape[1]),nscan)]\n",
        "plt.plot(scan[1], scan[0], 'r.')\n",
        "plt.savefig(f'data/scan.png')\n",
        "\n",
        "# copy to gpu\n",
        "psiinit = cp.array(psiinit)\n",
        "prb = cp.array(prb)\n",
        "scan = cp.array(scan)        \n",
        "\n",
        "# compute data\n",
        "with SolverPtycho(nz, n, nscan, ndet, nprb, 1) as pslv:\n",
        "    # data = ||FQpsi||^2\n",
        "    data = cp.abs(pslv.fwd_ptycho(psiinit, prb, scan))**2\n",
        "\n",
        "# ADMM solver\n",
        "with SolverPtycho(nz, n, nscan, ndet, nprb, nnodes) as pslv:\n",
        "    # init variable\n",
        "    psi = cp.ones([nnodes, *psiinit.shape], dtype='complex64')\n",
        "    z = cp.ones(psiinit.shape, dtype='complex64')\n",
        "    lamd = cp.zeros([nnodes, *psiinit.shape], dtype='complex64')\n",
        "\n",
        "    niter = 128  # number of outer iterations\n",
        "    piter = 4  # number of inner iterations in ptychography\n",
        "\n",
        "    rho = 0.5\n",
        "    for m in range(niter):\n",
        "        # keep z from the previous iteration for penalty updates\n",
        "        z0 = z.copy()\n",
        "        # 1) ptycho problem (many nodes)\n",
        "        psi = pslv.grad_ptycho_batch(\n",
        "            data, psi, prb, scan, z-lamd, rho, piter)\n",
        "        # 2) regularization problem (one node)\n",
        "        z = cp.mean(psi+lamd, axis=0)\n",
        "        # 3) lambda update\n",
        "        lamd = lamd + (psi - z)\n",
        "        # update rho, tau for a faster convergence\n",
        "        rho = pslv.update_penalty(psi, z, z0, rho)\n",
        "        # Lagrangians difference between two iterations\n",
        "        lagr = pslv.take_lagr(data, psi, prb, scan, z, lamd, rho)\n",
        "        print(\"%d/%d) rho=%.2e, Lagrangian terms:  %.2e %.2e %.2e, Sum: %.2e\" %\n",
        "              (m, niter, rho, *lagr))\n",
        "\n",
        "dxchange.write_tiff(cp.angle(z).get(),\n",
        "                    'rec_admm/object_angle.tiff', overwrite=True)\n",
        "dxchange.write_tiff(cp.abs(z).get(),\n",
        "                    'rec_admm/object_amp.tiff', overwrite=True)"
      ],
      "execution_count": null,
      "outputs": []
    },
    {
      "cell_type": "code",
      "metadata": {
        "id": "qAtHc8by6KZT"
      },
      "source": [
        ""
      ],
      "execution_count": null,
      "outputs": []
    }
  ]
}